{
 "cells": [
  {
   "cell_type": "markdown",
   "metadata": {},
   "source": [
    "# Summary Statistics\n"
   ]
  },
  {
   "cell_type": "code",
   "execution_count": 1,
   "metadata": {},
   "outputs": [],
   "source": [
    "import numpy as np\n",
    "\n",
    "data = np.array([ 31,  57,  27,  65,  16,  46,  35,  57,  43,  35,  53,  40,  32,\n",
    "        26,  39,  18,  42,  37,  35,  38,  61,  61,  31,  43,  25,  54,\n",
    "        29,  24,  11,  61,  27,   7,  30,  46,  22,  14,  46,  48,  21,\n",
    "        41,  44,  18,  45,  10,  22,  53,  26,  43,  56,  48,  43,   8,\n",
    "        55,  37,  24,  12,  21,  16,  34,  21,  19, 105,  12,  39,  25,\n",
    "        84,  68,  49,  51,  26,  40,  22,  42,  72,  68,   5,  19,  21,\n",
    "        53,  25,  50,  57,  25,  54,  39,  68,  15,  65,  68,  30,  16,\n",
    "        51,  27,  14,  44,  30,  62,  26,  73,  76,  32,  48,  43,  29,\n",
    "        49,  20,  35,  33,  75,  20,  25,  21,  26,  24,  64,  34,  81,\n",
    "        10,  19,  29,  37,  42,  62,  68,  56,  35,  75,  22, 109,  54,\n",
    "        10,  26,  33,  29,  15,  40,  25,  18,  27,  43,  28,  24,  40,\n",
    "        34,  87,  15,  70,  44,  48,   9,  28,  24,  21,   7,  83,  32,\n",
    "        45,  45,  33,  27,  20,  14,  28,  78,  30,  46,  39,  28,  56,\n",
    "        11,  12,  12,  18,  30,  35,  18,  31,  12,  33,  25,   9,  16,\n",
    "        16,  58,  17,  63,  39,  28,  43,  39,  41,  49,  96,  57,  20,\n",
    "        20,  28,  36,  39,  16,  48,  27,  40,  58,  43,  17,  33,  29,\n",
    "        19,  46,  40,  17,  19,  23,  45,  53,  55,  27,  41,  23,  24,\n",
    "        23,  57,  15,  35,  27,  62,  12,  24,  13,  52,  63,  49,  63,\n",
    "         9,   4,   3,  33,  51,  49,  42,  49,   8,  46,  38,  49,   5,\n",
    "        29,  66,  43,  28,  17,  56,  55,  39,  31,  21,  37,  41,  15,\n",
    "        21,  22, 118,  21,  36,  16,  51,  75,  18,  17,  29,  70,  51,\n",
    "        36,  43,  17,  42,  53,  58,  35,  58,  26,  20,  29,  29,  21,\n",
    "        21,  30,  14,  27,  39,  42,  22,  54,  39,  56,  59,  37,  67,\n",
    "        33,  37,  14,  46,  18,  30,  31,  16,  12,  54,  33,  18,  21,\n",
    "        50,  39,  15,  30,  45,  36,  41,  15,  33,  63,  59,  40,  32,\n",
    "        16,  27,  65,  76,  32,  27,  61,  25,  24,  21,  64,  78,  16,\n",
    "        26,  57,  13,   7,  45,  39,  42,  18,  10,  61,  33,  28,  24,\n",
    "        18,  37,  65,  42,  23,  24,  50,  44,  83,  55,  27,  29,  74,\n",
    "        53,  21,  19,  60,  15,  60,  31,  43,  25,  56,  67,  14,  28,\n",
    "        29,  29,  36,  15,  29,  30,  28,  40,  43,  58,  12,  58,   9,\n",
    "        48,  25,  54,  65,  11,   9,  12,  48,  40,  43,  21,  66,  27,\n",
    "        44,  53,  14,  20,  34,  31,  26,  23,  50,  43,  45,  45,  33,\n",
    "        64,  18,  18,  56,  21,  25,  29,  59,  37,  62,  29,  50,  15,\n",
    "        36,  39,  19,  10,  30,  41,  40,  12,  29,  35,  58,  27,  38,\n",
    "        44,  32,  30,  31,  44,   6,  12,  62,  23,  45,  36,  32,  43,\n",
    "        43,  44,  23,  65,  29,  11,  39,  35,  22,  35,  41,  28,  56,\n",
    "        33,  27,  35,   4,  57,  37,  33,  16,  51,  11,  42,  48, 100,\n",
    "        51,  38,  36,  46,  45,  29,  32,  12,  36,  34,  12,  47,  88,\n",
    "        38,  82,  41,  28,  56,  41,  27,  57,   9,  38,  29,  29,  28,\n",
    "        39,  29,  42,  70,  52,  18,  76,  32,  11,  33,  21,  77,  42,\n",
    "        40,  19,  19,  41,  51,  26,  67,  16,  17,  66,  89,  62,  26,\n",
    "        46,  50,  21,  36,  21,  23,  35,  58,  23,  37,  40,  58,  55,\n",
    "        21,  19,  36,  36,  30,  19,  15,  91,  57,  11,  20,  13,  29,\n",
    "        17,  24,  50,  48,  48,  62,  43,  27,  36,  91,  13,  25,  35,\n",
    "         3,  13,  42,  19,  48,  12,  59,  60,  25,  32,  22,  25,  36,\n",
    "        42,  19,  25,  24,   9,  12,  70,  36,  15,  76,  29,  34,  35,\n",
    "        13,  23,  51,  52,  78,  12,  18,  65,  42,  39,  19,  80,  22,\n",
    "        37,  32,  31,  26,   6,  65,  37,  20,  57,  52,  33,  50,  83,\n",
    "        28,  23,  24,   7,  44,  46,  20,  61,  52,  88,  34,  52,  36,\n",
    "        24,  38,  26,  69,   5,  16,  13,  52,  23,  20,  32,  13,  18,\n",
    "        12,  50,  24,   8,  77,  39,  30,  44,  59,  17,  42,  32,  52,\n",
    "        34,  24,  11,  46,  39,  41,  31,  15,  42,  47,  22,  53,  94,\n",
    "         9,  36,  19,  28,  13,  45,  71,  18,  27,  34,  31,  31,  84,\n",
    "        20,   8,  23,  49,  46,  59,  16,  29,  33,  27,  21,  86,  36,\n",
    "        31,  32,  29,  34,  18,  33,  24,  18,  17,  22,  12,  27,  52,\n",
    "        33,  19,  50,  59,  37,  45,  44,  30,  35,  61,  22,  47,  70,\n",
    "        14,  26,  35,  45,  15,  25,  44,  19,  46,  29,  50,  24,  27,\n",
    "        30,  27,  25,  19,  38,  28,   9,  21,  22,  31,  17,  44,  20,\n",
    "         8,  14,  71,  85,  48,  45,  36,  27,  61,  32,  43,  22,  15,\n",
    "        48,  19,  56,  52,  14,  21,  21,  26,  18,  56,  34,  19,  20,\n",
    "        48,  61,  43,  58,  72,  32,  66,  23,  35,  40,  39,  31,  72,\n",
    "        14,  27,  19,  25,  23,  38,  14,  83,  86,  38,  55,  19,  25,\n",
    "        37,  23,  41,  77,  46,   9,  10,  19,  22,  74,  24,  15,  24,\n",
    "        45,  30,  32,   3,   8,   9,  46,  24,  59,  46,  30,  48,  33,\n",
    "        16,  29,  69,  28,  53, 121,  50,  36,  90,  32,  53,  14,  27,\n",
    "        31,  22,  46,  35,  29,  50,  41,  23,  62,  47,  31,  41,  21,\n",
    "        43,  73,  36,  26,  35,  35,  21,  16,  18,  56,  56,  26,  18,\n",
    "        57,  30,  31,  35,  38,  39,  80,  42,  51,  47,  26,  21,  34,\n",
    "        38,  38,  22,  12,  42,  17,  15,  26,  44,  40,  19,  19,  33,\n",
    "        64,  11,  27,  32,  35,  28,  64,  28,  52,  38,  58,  47,  69,\n",
    "        40,  17,  29,  48,  18,  65,  14,  16,  15,  69,  39,  19,  21,\n",
    "        31,  42,  12,   8,  36,  12,  36,  35,  38,  17,  15,  33,  71,\n",
    "        70,  14,  29,  12,  10,  44,  41,  49,  32,  55,  24,  27,  73,\n",
    "        42,  70,  35,  27,  37,  30,  32,  81,  63,  64,  20,  33,  10,\n",
    "        25,  30,  36,  68,  43,  23,  45,  21,  18,  25,  54,  16,  48,\n",
    "        40,  64,  38,  24,  44,  16,  27,  29,  48,  24,  25,  13,  48,\n",
    "        35,  31,  15,  57,  29,  65,  54,  31,  40,   8,  66,  43])\n"
   ]
  },
  {
   "cell_type": "code",
   "execution_count": 2,
   "metadata": {},
   "outputs": [
    {
     "data": {
      "image/png": "[encoded data removed]",
      "text/plain": [
       "<Figure size 640x480 with 1 Axes>"
      ]
     },
     "metadata": {},
     "output_type": "display_data"
    }
   ],
   "source": [
    "import matplotlib.pyplot as plt\n",
    "plt.hist(data)\n",
    "plt.show()"
   ]
  },
  {
   "cell_type": "markdown",
   "metadata": {},
   "source": [
    "---"
   ]
  },
  {
   "cell_type": "markdown",
   "metadata": {},
   "source": [
    "## Central Tendency\n"
   ]
  },
  {
   "cell_type": "markdown",
   "metadata": {},
   "source": [
    "### Arithmetic mean\n"
   ]
  },
  {
   "cell_type": "code",
   "execution_count": 3,
   "metadata": {},
   "outputs": [
    {
     "name": "stdout",
     "output_type": "stream",
     "text": [
      "mean = 36.325\n"
     ]
    }
   ],
   "source": [
    "def mean(data):\n",
    "    total = 0\n",
    "    for i in range(len(data)):\n",
    "        total += data[i]\n",
    "    return total/len(data)\n",
    "\n",
    "print('mean =', mean(data))"
   ]
  },
  {
   "cell_type": "code",
   "execution_count": 4,
   "metadata": {},
   "outputs": [
    {
     "data": {
      "text/plain": [
       "np.float64(36.325)"
      ]
     },
     "execution_count": 4,
     "metadata": {},
     "output_type": "execute_result"
    }
   ],
   "source": [
    "np.mean(data)"
   ]
  },
  {
   "cell_type": "markdown",
   "metadata": {},
   "source": [
    "### Median\n"
   ]
  },
  {
   "cell_type": "code",
   "execution_count": 5,
   "metadata": {},
   "outputs": [],
   "source": [
    "def median(data):\n",
    "    data = sorted(data)\n",
    "    n = len(data)\n",
    "    if n % 2 == 1:\n",
    "        return data[n//2]\n",
    "    else:\n",
    "        return (data[n//2] + data[n//2 - 1]) / 2"
   ]
  },
  {
   "cell_type": "code",
   "execution_count": 6,
   "metadata": {},
   "outputs": [
    {
     "data": {
      "text/plain": [
       "np.float64(33.0)"
      ]
     },
     "execution_count": 6,
     "metadata": {},
     "output_type": "execute_result"
    }
   ],
   "source": [
    "median(data)"
   ]
  },
  {
   "cell_type": "code",
   "execution_count": 7,
   "metadata": {},
   "outputs": [
    {
     "data": {
      "text/plain": [
       "np.float64(33.0)"
      ]
     },
     "execution_count": 7,
     "metadata": {},
     "output_type": "execute_result"
    }
   ],
   "source": [
    "np.median(data)"
   ]
  },
  {
   "cell_type": "code",
   "execution_count": 8,
   "metadata": {},
   "outputs": [
    {
     "data": {
      "image/png": "[encoded data removed]",
      "text/plain": [
       "<Figure size 640x480 with 1 Axes>"
      ]
     },
     "metadata": {},
     "output_type": "display_data"
    }
   ],
   "source": [
    "xbar = np.mean(data)\n",
    "xmed = np.median(data)\n",
    "\n",
    "plt.hist(data)\n",
    "\n",
    "plt.vlines( xbar, 0, 280, colors='blue' )\n",
    "plt.text( xbar + 2, 270, 'mean=' + str(xbar), color='blue', fontsize='large')\n",
    "\n",
    "plt.vlines( xmed, 0, 300, colors='green' )\n",
    "plt.text( xmed + 2, 290, 'median=' + str(xmed), color='green', fontsize='large')\n",
    "\n",
    "\n",
    "plt.show()"
   ]
  },
  {
   "cell_type": "markdown",
   "metadata": {},
   "source": [
    "This distribution is positively skewed, so the mean is pulled to the right by the extreme values. The median is less affected by extreme values, so is usually a more representative measure of central tendency for these kinds of distributions."
   ]
  },
  {
   "cell_type": "markdown",
   "metadata": {},
   "source": [
    "### Mode"
   ]
  },
  {
   "cell_type": "code",
   "execution_count": 9,
   "metadata": {},
   "outputs": [],
   "source": [
    "def mode(data):\n",
    "    counts = {}\n",
    "    for x in data:\n",
    "        if x in counts:\n",
    "            counts[x] += 1\n",
    "        else:\n",
    "            counts[x] = 0\n",
    "    max_count = max(counts.values())\n",
    "    for key in iter(counts):\n",
    "        if counts[key] == max_count:\n",
    "            return key"
   ]
  },
  {
   "cell_type": "code",
   "execution_count": 10,
   "metadata": {},
   "outputs": [
    {
     "data": {
      "text/plain": [
       "np.int64(29)"
      ]
     },
     "execution_count": 10,
     "metadata": {},
     "output_type": "execute_result"
    }
   ],
   "source": [
    "mode(data)"
   ]
  },
  {
   "cell_type": "code",
   "execution_count": 11,
   "metadata": {},
   "outputs": [
    {
     "data": {
      "text/plain": [
       "ModeResult(mode=np.int64(29), count=np.int64(32))"
      ]
     },
     "execution_count": 11,
     "metadata": {},
     "output_type": "execute_result"
    }
   ],
   "source": [
    "from scipy import stats\n",
    "stats.mode(data)"
   ]
  },
  {
   "cell_type": "markdown",
   "metadata": {},
   "source": [
    "---"
   ]
  },
  {
   "cell_type": "markdown",
   "metadata": {},
   "source": [
    "### Variance"
   ]
  },
  {
   "cell_type": "code",
   "execution_count": 12,
   "metadata": {},
   "outputs": [],
   "source": [
    "def var(data):\n",
    "    xbar = mean(data)\n",
    "    total = 0.\n",
    "    for x in data:\n",
    "        total += (x - xbar)**2\n",
    "    return total / len(data)"
   ]
  },
  {
   "cell_type": "code",
   "execution_count": 13,
   "metadata": {},
   "outputs": [
    {
     "data": {
      "text/plain": [
       "np.float64(357.2733750000014)"
      ]
     },
     "execution_count": 13,
     "metadata": {},
     "output_type": "execute_result"
    }
   ],
   "source": [
    "var(data)"
   ]
  },
  {
   "cell_type": "code",
   "execution_count": 14,
   "metadata": {},
   "outputs": [
    {
     "data": {
      "text/plain": [
       "np.float64(357.273375)"
      ]
     },
     "execution_count": 14,
     "metadata": {},
     "output_type": "execute_result"
    }
   ],
   "source": [
    "np.var( data )"
   ]
  },
  {
   "cell_type": "markdown",
   "metadata": {},
   "source": [
    "---"
   ]
  },
  {
   "cell_type": "markdown",
   "metadata": {},
   "source": [
    "### Bar chart"
   ]
  },
  {
   "cell_type": "code",
   "execution_count": 17,
   "metadata": {},
   "outputs": [
    {
     "data": {
      "image/png": "[encoded data removed]",
      "text/plain": [
       "<Figure size 640x480 with 1 Axes>"
      ]
     },
     "metadata": {},
     "output_type": "display_data"
    }
   ],
   "source": [
    "a = [1.5, 1.6, 1.5]\n",
    "b = [8.3, 5.0, 9.0]\n",
    "c = [10.0, 11.0, 8.5]\n",
    "\n",
    "bar_data = np.array([a,b,c])\n",
    "bar_heights = np.mean(bar_data, axis=1)\n",
    "bar_se = np.std(bar_data, axis=1, ddof=1)/np.sqrt(3)\n",
    "bar_colors = ['tab:red', 'tab:blue', 'tab:orange']\n",
    "bar_labels = ['a','b','c']\n",
    "\n",
    "plt.bar(bar_labels, bar_heights, color=bar_colors, yerr=bar_se, capsize=5, alpha=0.5)\n",
    "plt.show()"
   ]
  },
  {
   "cell_type": "markdown",
   "metadata": {},
   "source": [
    "---"
   ]
  }
 ],
 "metadata": {
  "kernelspec": {
   "display_name": "Python 3",
   "language": "python",
   "name": "python3"
  },
  "language_info": {
   "codemirror_mode": {
    "name": "ipython",
    "version": 3
   },
   "file_extension": ".py",
   "mimetype": "text/x-python",
   "name": "python",
   "nbconvert_exporter": "python",
   "pygments_lexer": "ipython3",
   "version": "3.11.10"
  }
 },
 "nbformat": 4,
 "nbformat_minor": 4
}
